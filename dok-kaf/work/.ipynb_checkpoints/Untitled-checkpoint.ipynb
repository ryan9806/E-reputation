{
 "cells": [
  {
   "cell_type": "code",
   "execution_count": 9,
   "id": "5b6e205a",
   "metadata": {},
   "outputs": [],
   "source": [
    "import pandas as pd\n",
    "from kafka import KafkaConsumer\n",
    "import json\n",
    "\n",
    "from pyspark.sql import SparkSession\n",
    "from pyspark.sql.types import StructType, StructField,DateType,StringType"
   ]
  },
  {
   "cell_type": "code",
   "execution_count": 10,
   "id": "e4ab2f14",
   "metadata": {},
   "outputs": [],
   "source": [
    "# Spark session & context\n",
    "spark = (SparkSession\n",
    "         .builder\n",
    "         .master('local')\n",
    "         .appName('twitter')\n",
    "         # Add kafka package\n",
    "         .config(\"spark.jars.packages\", \"org.apache.spark:spark-sql-kafka-0-10_2.12:3.1.1\")\n",
    "         .getOrCreate())"
   ]
  },
  {
   "cell_type": "code",
   "execution_count": 11,
   "id": "a408fb98",
   "metadata": {},
   "outputs": [],
   "source": [
    "c = KafkaConsumer('test5', bootstrap_servers=['kafka:9093'], api_version=(2,6,0))\n"
   ]
  },
  {
   "cell_type": "code",
   "execution_count": 16,
   "id": "34fb32e9",
   "metadata": {},
   "outputs": [],
   "source": [
    "cSchema = StructType([StructField(\"text\", StringType())\\\n",
    "                     ,StructField(\"date\", DateType())])\n"
   ]
  },
  {
   "cell_type": "code",
   "execution_count": 14,
   "id": "7961c39c",
   "metadata": {},
   "outputs": [],
   "source": [
    "for msg in c:\n",
    "    df = pd.DataFrame(json.loads(msg.value))    #charger le message dans un Data-Frame df\n",
    "    #df1=df[~df['vitesse'].isna()]               #suprimmer les vitesses null\n",
    "        \n",
    "    dfs = spark.createDataFrame(df,schema=cSchema)    #charger la Data-Frame df dans un Data-Frame SPARK dfs \n",
    "    print(dfs.show())                                  #affichage de la dfs\n",
    "    #print(dfs.agg({'vitesse' : 'mean'}).show())        #calcul et affichage de la moyenne des vitesses\n",
    "    #print(\"le nombre d'avions en vol actuellement est de : \" , dfs.count())"
   ]
  },
  {
   "cell_type": "code",
   "execution_count": 17,
   "id": "a320d718",
   "metadata": {},
   "outputs": [
    {
     "data": {
      "text/plain": [
       "2"
      ]
     },
     "execution_count": 17,
     "metadata": {},
     "output_type": "execute_result"
    }
   ],
   "source": [
    "len(cSchema)"
   ]
  },
  {
   "cell_type": "code",
   "execution_count": null,
   "id": "0bffdac3",
   "metadata": {},
   "outputs": [],
   "source": []
  },
  {
   "cell_type": "code",
   "execution_count": 2,
   "id": "f35cf8d6",
   "metadata": {},
   "outputs": [
    {
     "name": "stdout",
     "output_type": "stream",
     "text": [
      "Collecting tweepy==3.8.0\n",
      "  Downloading tweepy-3.8.0-py2.py3-none-any.whl (28 kB)\n",
      "Requirement already satisfied: PySocks>=1.5.7 in /opt/conda/lib/python3.8/site-packages (from tweepy==3.8.0) (1.7.1)\n",
      "Requirement already satisfied: requests>=2.11.1 in /opt/conda/lib/python3.8/site-packages (from tweepy==3.8.0) (2.25.1)\n",
      "Collecting requests-oauthlib>=0.7.0\n",
      "  Downloading requests_oauthlib-1.3.1-py2.py3-none-any.whl (23 kB)\n",
      "Requirement already satisfied: six>=1.10.0 in /opt/conda/lib/python3.8/site-packages (from tweepy==3.8.0) (1.16.0)\n",
      "Requirement already satisfied: certifi>=2017.4.17 in /opt/conda/lib/python3.8/site-packages (from requests>=2.11.1->tweepy==3.8.0) (2020.12.5)\n",
      "Requirement already satisfied: urllib3<1.27,>=1.21.1 in /opt/conda/lib/python3.8/site-packages (from requests>=2.11.1->tweepy==3.8.0) (1.26.4)\n",
      "Requirement already satisfied: chardet<5,>=3.0.2 in /opt/conda/lib/python3.8/site-packages (from requests>=2.11.1->tweepy==3.8.0) (4.0.0)\n",
      "Requirement already satisfied: idna<3,>=2.5 in /opt/conda/lib/python3.8/site-packages (from requests>=2.11.1->tweepy==3.8.0) (2.10)\n",
      "Requirement already satisfied: oauthlib>=3.0.0 in /opt/conda/lib/python3.8/site-packages (from requests-oauthlib>=0.7.0->tweepy==3.8.0) (3.0.1)\n",
      "Installing collected packages: requests-oauthlib, tweepy\n",
      "Successfully installed requests-oauthlib-1.3.1 tweepy-3.8.0\n",
      "Note: you may need to restart the kernel to use updated packages.\n"
     ]
    }
   ],
   "source": [
    "pip install tweepy==3.8.0"
   ]
  },
  {
   "cell_type": "code",
   "execution_count": 1,
   "id": "d3faa9e4",
   "metadata": {},
   "outputs": [],
   "source": [
    "import time\n",
    "import tweepy \n",
    "import pandas as pd\n",
    "import numpy as np\n",
    "from time import strftime\n",
    "from kafka import KafkaProducer\n",
    "import json"
   ]
  },
  {
   "cell_type": "code",
   "execution_count": 2,
   "id": "39b5c457",
   "metadata": {},
   "outputs": [],
   "source": [
    "consumer_key = \"MWi2uTim4iPJll4QRpiAJtp0w\"\n",
    "consumer_secret = \"sgvmgD9GIgQMPcXdBHIbgrxbCGqfkDszhKCUOps77644UBAhiL\"\n",
    "\n",
    "access_key= \"1502361924746596356-1w7sBv1JdgjY77b6ycGZHPJrL3J6yS\"\n",
    "access_secret = \"7Y5A8FFBVazCceIxHzsQKJdDiCFtrigqJExn7iTUnBnAR\""
   ]
  },
  {
   "cell_type": "code",
   "execution_count": 3,
   "id": "e68dc7c7",
   "metadata": {},
   "outputs": [],
   "source": [
    "auth = tweepy.OAuthHandler(consumer_key, consumer_secret)\n",
    "auth.set_access_token(access_key, access_secret)\n",
    "\n",
    "api = tweepy.API(auth)\n"
   ]
  },
  {
   "cell_type": "code",
   "execution_count": 6,
   "id": "750ea201",
   "metadata": {},
   "outputs": [
    {
     "ename": "TweepError",
     "evalue": "[{'code': 112, 'message': 'You must specify either a list ID or a slug and owner.'}]",
     "output_type": "error",
     "traceback": [
      "\u001b[0;31m---------------------------------------------------------------------------\u001b[0m",
      "\u001b[0;31mTweepError\u001b[0m                                Traceback (most recent call last)",
      "\u001b[0;32m<ipython-input-6-a5a57e747241>\u001b[0m in \u001b[0;36m<module>\u001b[0;34m\u001b[0m\n\u001b[0;32m----> 1\u001b[0;31m \u001b[0muser\u001b[0m\u001b[0;34m=\u001b[0m \u001b[0mapi\u001b[0m\u001b[0;34m.\u001b[0m\u001b[0mlist_timeline\u001b[0m\u001b[0;34m(\u001b[0m\u001b[0;34m'85156180'\u001b[0m\u001b[0;34m)\u001b[0m\u001b[0;34m\u001b[0m\u001b[0;34m\u001b[0m\u001b[0m\n\u001b[0m",
      "\u001b[0;32m/opt/conda/lib/python3.8/site-packages/tweepy/binder.py\u001b[0m in \u001b[0;36m_call\u001b[0;34m(*args, **kwargs)\u001b[0m\n\u001b[1;32m    248\u001b[0m                 \u001b[0;32mreturn\u001b[0m \u001b[0mmethod\u001b[0m\u001b[0;34m\u001b[0m\u001b[0;34m\u001b[0m\u001b[0m\n\u001b[1;32m    249\u001b[0m             \u001b[0;32melse\u001b[0m\u001b[0;34m:\u001b[0m\u001b[0;34m\u001b[0m\u001b[0;34m\u001b[0m\u001b[0m\n\u001b[0;32m--> 250\u001b[0;31m                 \u001b[0;32mreturn\u001b[0m \u001b[0mmethod\u001b[0m\u001b[0;34m.\u001b[0m\u001b[0mexecute\u001b[0m\u001b[0;34m(\u001b[0m\u001b[0;34m)\u001b[0m\u001b[0;34m\u001b[0m\u001b[0;34m\u001b[0m\u001b[0m\n\u001b[0m\u001b[1;32m    251\u001b[0m         \u001b[0;32mfinally\u001b[0m\u001b[0;34m:\u001b[0m\u001b[0;34m\u001b[0m\u001b[0;34m\u001b[0m\u001b[0m\n\u001b[1;32m    252\u001b[0m             \u001b[0mmethod\u001b[0m\u001b[0;34m.\u001b[0m\u001b[0msession\u001b[0m\u001b[0;34m.\u001b[0m\u001b[0mclose\u001b[0m\u001b[0;34m(\u001b[0m\u001b[0;34m)\u001b[0m\u001b[0;34m\u001b[0m\u001b[0;34m\u001b[0m\u001b[0m\n",
      "\u001b[0;32m/opt/conda/lib/python3.8/site-packages/tweepy/binder.py\u001b[0m in \u001b[0;36mexecute\u001b[0;34m(self)\u001b[0m\n\u001b[1;32m    231\u001b[0m                     \u001b[0;32mraise\u001b[0m \u001b[0mRateLimitError\u001b[0m\u001b[0;34m(\u001b[0m\u001b[0merror_msg\u001b[0m\u001b[0;34m,\u001b[0m \u001b[0mresp\u001b[0m\u001b[0;34m)\u001b[0m\u001b[0;34m\u001b[0m\u001b[0;34m\u001b[0m\u001b[0m\n\u001b[1;32m    232\u001b[0m                 \u001b[0;32melse\u001b[0m\u001b[0;34m:\u001b[0m\u001b[0;34m\u001b[0m\u001b[0;34m\u001b[0m\u001b[0m\n\u001b[0;32m--> 233\u001b[0;31m                     \u001b[0;32mraise\u001b[0m \u001b[0mTweepError\u001b[0m\u001b[0;34m(\u001b[0m\u001b[0merror_msg\u001b[0m\u001b[0;34m,\u001b[0m \u001b[0mresp\u001b[0m\u001b[0;34m,\u001b[0m \u001b[0mapi_code\u001b[0m\u001b[0;34m=\u001b[0m\u001b[0mapi_error_code\u001b[0m\u001b[0;34m)\u001b[0m\u001b[0;34m\u001b[0m\u001b[0;34m\u001b[0m\u001b[0m\n\u001b[0m\u001b[1;32m    234\u001b[0m \u001b[0;34m\u001b[0m\u001b[0m\n\u001b[1;32m    235\u001b[0m             \u001b[0;31m# Parse the response payload\u001b[0m\u001b[0;34m\u001b[0m\u001b[0;34m\u001b[0m\u001b[0;34m\u001b[0m\u001b[0m\n",
      "\u001b[0;31mTweepError\u001b[0m: [{'code': 112, 'message': 'You must specify either a list ID or a slug and owner.'}]"
     ]
    }
   ],
   "source": [
    "user= api.list_timeline(85156180)"
   ]
  },
  {
   "cell_type": "code",
   "execution_count": 57,
   "id": "8b43c5cf",
   "metadata": {},
   "outputs": [],
   "source": [
    "list_id =1511682230598483970 \n",
    "\n",
    "#user= tweepy.API.me(api.get_list(list_id = list_id) )   \n",
    "\n",
    "user = api.get_list(list_id = list_id) "
   ]
  },
  {
   "cell_type": "code",
   "execution_count": 58,
   "id": "9004e390",
   "metadata": {},
   "outputs": [
    {
     "name": "stdout",
     "output_type": "stream",
     "text": [
      "User id : 1511682230598483970\n",
      "info\n",
      "Description: Daily news\n",
      "Account created at : 2022-04-06 12:28:24\n"
     ]
    }
   ],
   "source": [
    "print(\"User id : \"+ user.id_str)\n",
    "print(user.name)\n",
    "print(\"Description: \"+ user.description)\n",
    "print(\"Account created at : \"+str(user.created_at))\n"
   ]
  },
  {
   "cell_type": "code",
   "execution_count": 62,
   "id": "ebfb194d",
   "metadata": {},
   "outputs": [
    {
     "ename": "TweepError",
     "evalue": "[{'code': 34, 'message': 'Sorry, that page does not exist.'}]",
     "output_type": "error",
     "traceback": [
      "\u001b[0;31m---------------------------------------------------------------------------\u001b[0m",
      "\u001b[0;31mTweepError\u001b[0m                                Traceback (most recent call last)",
      "\u001b[0;32m<ipython-input-62-89fd96a6cacc>\u001b[0m in \u001b[0;36m<module>\u001b[0;34m\u001b[0m\n\u001b[0;32m----> 1\u001b[0;31m \u001b[0mstatuses\u001b[0m \u001b[0;34m=\u001b[0m \u001b[0mapi\u001b[0m\u001b[0;34m.\u001b[0m\u001b[0muser_timeline\u001b[0m\u001b[0;34m(\u001b[0m\u001b[0mid\u001b[0m\u001b[0;34m=\u001b[0m \u001b[0muser\u001b[0m\u001b[0;34m.\u001b[0m\u001b[0mid\u001b[0m\u001b[0;34m)\u001b[0m\u001b[0;34m\u001b[0m\u001b[0;34m\u001b[0m\u001b[0m\n\u001b[0m",
      "\u001b[0;32m/opt/conda/lib/python3.8/site-packages/tweepy/binder.py\u001b[0m in \u001b[0;36m_call\u001b[0;34m(*args, **kwargs)\u001b[0m\n\u001b[1;32m    248\u001b[0m                 \u001b[0;32mreturn\u001b[0m \u001b[0mmethod\u001b[0m\u001b[0;34m\u001b[0m\u001b[0;34m\u001b[0m\u001b[0m\n\u001b[1;32m    249\u001b[0m             \u001b[0;32melse\u001b[0m\u001b[0;34m:\u001b[0m\u001b[0;34m\u001b[0m\u001b[0;34m\u001b[0m\u001b[0m\n\u001b[0;32m--> 250\u001b[0;31m                 \u001b[0;32mreturn\u001b[0m \u001b[0mmethod\u001b[0m\u001b[0;34m.\u001b[0m\u001b[0mexecute\u001b[0m\u001b[0;34m(\u001b[0m\u001b[0;34m)\u001b[0m\u001b[0;34m\u001b[0m\u001b[0;34m\u001b[0m\u001b[0m\n\u001b[0m\u001b[1;32m    251\u001b[0m         \u001b[0;32mfinally\u001b[0m\u001b[0;34m:\u001b[0m\u001b[0;34m\u001b[0m\u001b[0;34m\u001b[0m\u001b[0m\n\u001b[1;32m    252\u001b[0m             \u001b[0mmethod\u001b[0m\u001b[0;34m.\u001b[0m\u001b[0msession\u001b[0m\u001b[0;34m.\u001b[0m\u001b[0mclose\u001b[0m\u001b[0;34m(\u001b[0m\u001b[0;34m)\u001b[0m\u001b[0;34m\u001b[0m\u001b[0;34m\u001b[0m\u001b[0m\n",
      "\u001b[0;32m/opt/conda/lib/python3.8/site-packages/tweepy/binder.py\u001b[0m in \u001b[0;36mexecute\u001b[0;34m(self)\u001b[0m\n\u001b[1;32m    231\u001b[0m                     \u001b[0;32mraise\u001b[0m \u001b[0mRateLimitError\u001b[0m\u001b[0;34m(\u001b[0m\u001b[0merror_msg\u001b[0m\u001b[0;34m,\u001b[0m \u001b[0mresp\u001b[0m\u001b[0;34m)\u001b[0m\u001b[0;34m\u001b[0m\u001b[0;34m\u001b[0m\u001b[0m\n\u001b[1;32m    232\u001b[0m                 \u001b[0;32melse\u001b[0m\u001b[0;34m:\u001b[0m\u001b[0;34m\u001b[0m\u001b[0;34m\u001b[0m\u001b[0m\n\u001b[0;32m--> 233\u001b[0;31m                     \u001b[0;32mraise\u001b[0m \u001b[0mTweepError\u001b[0m\u001b[0;34m(\u001b[0m\u001b[0merror_msg\u001b[0m\u001b[0;34m,\u001b[0m \u001b[0mresp\u001b[0m\u001b[0;34m,\u001b[0m \u001b[0mapi_code\u001b[0m\u001b[0;34m=\u001b[0m\u001b[0mapi_error_code\u001b[0m\u001b[0;34m)\u001b[0m\u001b[0;34m\u001b[0m\u001b[0;34m\u001b[0m\u001b[0m\n\u001b[0m\u001b[1;32m    234\u001b[0m \u001b[0;34m\u001b[0m\u001b[0m\n\u001b[1;32m    235\u001b[0m             \u001b[0;31m# Parse the response payload\u001b[0m\u001b[0;34m\u001b[0m\u001b[0;34m\u001b[0m\u001b[0;34m\u001b[0m\u001b[0m\n",
      "\u001b[0;31mTweepError\u001b[0m: [{'code': 34, 'message': 'Sorry, that page does not exist.'}]"
     ]
    }
   ],
   "source": [
    "statuses = api.user_timeline(id= user.id)"
   ]
  },
  {
   "cell_type": "code",
   "execution_count": 56,
   "id": "ef440fe6",
   "metadata": {},
   "outputs": [
    {
     "name": "stdout",
     "output_type": "stream",
     "text": [
      "***\n",
      "Tweet id : 979870439060267008\n",
      "brilliant I didn't see that coming  #SugdenKingsVTates\n",
      "retweet count : 0\n",
      "Favorite count: 3\n",
      "30/03/2018\n",
      "Status place: None\n",
      "Source : Twitter Web App\n",
      "Coordinates : None\n",
      "[{'text': \"brilliant I didn't see that coming  #SugdenKingsVTates\", 'date': '30/03/2018'}]\n",
      "***\n",
      "Tweet id : 877810826887012352\n",
      "@bbuk Hopefully joe\n",
      "retweet count : 0\n",
      "Favorite count: 0\n",
      "22/06/2017\n",
      "Status place: None\n",
      "Source : Twitter for Android\n",
      "Coordinates : None\n",
      "[{'text': '@bbuk Hopefully joe', 'date': '22/06/2017'}]\n",
      "***\n",
      "Tweet id : 225299390980567040\n",
      "@bbuk anymore rule breaking.. for punishment put them all up for eviction\n",
      "retweet count : 0\n",
      "Favorite count: 0\n",
      "17/07/2012\n",
      "Status place: None\n",
      "Source : Twitter Web Client\n",
      "Coordinates : None\n",
      "[{'text': '@bbuk anymore rule breaking.. for punishment put them all up for eviction', 'date': '17/07/2012'}]\n"
     ]
    }
   ],
   "source": [
    "for status in statuses:\n",
    "    print(\"***\")\n",
    "    print(\"Tweet id : \"+ status.id_str)\n",
    "    t = status.text\n",
    "    print(t)\n",
    "    print(\"retweet count : \"+ str(status.retweet_count))\n",
    "    print(\"Favorite count: \"+str(status.favorite_count))\n",
    "    d = status.created_at\n",
    "    dat=d.strftime(\"%d/%m/%Y\")\n",
    "    print(dat)\n",
    "    l=[{\"text\":t,\"date\":dat}]\n",
    "    print(\"Status place: \"+str(status.place))\n",
    "    print(\"Source : \"+ status.source)\n",
    "    print(\"Coordinates : \"+ str(status.coordinates))\n",
    "    print(l)\n",
    "    time.sleep(1)"
   ]
  },
  {
   "cell_type": "code",
   "execution_count": null,
   "id": "2eacef10",
   "metadata": {},
   "outputs": [],
   "source": []
  }
 ],
 "metadata": {
  "kernelspec": {
   "display_name": "Python 3",
   "language": "python",
   "name": "python3"
  },
  "language_info": {
   "codemirror_mode": {
    "name": "ipython",
    "version": 3
   },
   "file_extension": ".py",
   "mimetype": "text/x-python",
   "name": "python",
   "nbconvert_exporter": "python",
   "pygments_lexer": "ipython3",
   "version": "3.8.8"
  }
 },
 "nbformat": 4,
 "nbformat_minor": 5
}
