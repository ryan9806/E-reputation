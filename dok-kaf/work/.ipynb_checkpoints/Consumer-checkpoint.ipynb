{
 "cells": [
  {
   "cell_type": "code",
   "execution_count": 17,
   "id": "5b6e205a",
   "metadata": {},
   "outputs": [],
   "source": [
    "from pyspark.ml.classification import LogisticRegressionModel\n",
    "from pyspark.streaming import StreamingContext\n",
    "from pyspark import SparkConf, SparkContext\n",
    "import json\n",
    "import time\n",
    "from pyspark.sql import SparkSession\n",
    "from pyspark.sql.types import *\n",
    "from pyspark.sql.functions import explode\n",
    "from kafka import KafkaConsumer\n",
    "import copy\n",
    "import pandas as pd\n",
    "from pyspark.sql.types import StructType, StructField,DateType,StringType\n",
    "import streamlit as st\n",
    "from pathlib import Path\n",
    "import plotly\n",
    "import folium\n",
    "import matplotlib.pyplot as plt\n",
    "import numpy as np\n",
    "from streamlit_autorefresh import st_autorefresh"
   ]
  },
  {
   "cell_type": "code",
   "execution_count": null,
   "id": "61d3f41c",
   "metadata": {},
   "outputs": [],
   "source": []
  },
  {
   "cell_type": "code",
   "execution_count": null,
   "id": "a4952030",
   "metadata": {},
   "outputs": [],
   "source": []
  },
  {
   "cell_type": "code",
   "execution_count": 18,
   "id": "ac8436f9",
   "metadata": {},
   "outputs": [],
   "source": [
    "spark = (SparkSession\n",
    "         .builder\n",
    "         .master('local')\n",
    "         .appName('twitter')\n",
    "         # Add kafka package\n",
    "         .config(\"spark.jars.packages\", \"org.apache.spark:spark-sql-kafka-0-10_2.12:3.1.1\")\n",
    "         .getOrCreate())"
   ]
  },
  {
   "cell_type": "code",
   "execution_count": 19,
   "id": "c82c9e2b",
   "metadata": {},
   "outputs": [],
   "source": [
    "#load pip\n",
    "from pyspark.ml import PipelineModel\n",
    "\n",
    "pipe = PipelineModel.load(\"model_pip\")"
   ]
  },
  {
   "cell_type": "code",
   "execution_count": 20,
   "id": "6d1166bc",
   "metadata": {},
   "outputs": [],
   "source": [
    "#df du sc\n",
    "df_sc = spark.read.option(\"delimiter\", \";\").option(\"header\", True).csv(\"Twittersc.csv\")"
   ]
  },
  {
   "cell_type": "code",
   "execution_count": 21,
   "id": "cef9c3d8",
   "metadata": {},
   "outputs": [],
   "source": [
    "df_sc = pipe.transform(df_sc)"
   ]
  },
  {
   "cell_type": "code",
   "execution_count": 22,
   "id": "5448513f",
   "metadata": {},
   "outputs": [
    {
     "name": "stdout",
     "output_type": "stream",
     "text": [
      "+---------+--------------------+--------------------+--------------------+--------------------+--------------------+--------------------+--------------------+--------------------+----------+\n",
      "|sentiment|       Tweet content|               words|            Resultat|               Ngram|            features|                 idf|       rawPrediction|         probability|prediction|\n",
      "+---------+--------------------+--------------------+--------------------+--------------------+--------------------+--------------------+--------------------+--------------------+----------+\n",
      "| Positive|im getting on bor...|[im, getting, on,...|[im, getting, bor...|[im getting, gett...| (2,[0,1],[1.0,3.0])|(2,[0,1],[0.12567...|[-0.0591811171262...|[0.48520903746108...|       1.0|\n",
      "| Positive|I am coming to th...|[i, am, coming, t...|[coming, borders,...|[coming borders, ...|       (2,[1],[3.0])|(2,[1],[0.3713448...|[-0.0865536575739...|[0.47837508424010...|       1.0|\n",
      "| Positive|im getting on bor...|[im, getting, on,...|[im, getting, bor...|[im getting, gett...| (2,[0,1],[1.0,3.0])|(2,[0,1],[0.12567...|[-0.0591811171262...|[0.48520903746108...|       1.0|\n",
      "| Positive|im coming on bord...|[im, coming, on, ...|[im, coming, bord...|[im coming, comin...| (2,[0,1],[3.0,1.0])|(2,[0,1],[0.37703...|[-0.0259549256449...|[0.49351163282979...|       1.0|\n",
      "| Positive|im getting on bor...|[im, getting, on,...|[im, getting, bor...|[im getting, gett...| (2,[0,1],[2.0,3.0])|(2,[0,1],[0.25135...|[-0.0318085766786...|[0.49204852625122...|       1.0|\n",
      "| Positive|im getting into b...|[im, getting, int...|[im, getting, bor...|[im getting, gett...| (2,[0,1],[2.0,2.0])|(2,[0,1],[0.25135...|[-0.0425680213856...|[0.48935960133758...|       1.0|\n",
      "| Positive|So I spent a few ...|[so, i, spent, a,...|[spent, hours, ma...|[spent hours, hou...|(2,[0,1],[9.0,18.0])|(2,[0,1],[1.13110...|[0.32119087705991...|[0.57961445056595...|       0.0|\n",
      "| Positive|So I spent a coup...|[so, i, spent, a,...|[spent, couple, h...|[spent couple, co...|(2,[0,1],[12.0,14...|(2,[0,1],[1.50813...|[0.36027071957490...|[0.58910596605370...|       0.0|\n",
      "| Positive|So I spent a few ...|[so, i, spent, a,...|[spent, hours, so...|[spent hours, hou...| (2,[0,1],[4.0,8.0])|(2,[0,1],[0.50271...|[0.07673372775166...|[0.51917402470244...|       0.0|\n",
      "| Positive|So I spent a few ...|[so, i, spent, a,...|[spent, hours, ma...|[spent hours, hou...|(2,[0,1],[8.0,19.0])|(2,[0,1],[1.00542...|[0.30457778131924...|[0.57556121032051...|       0.0|\n",
      "| Positive|2010 So I spent a...|[2010, so, i, spe...|[2010, spent, hou...|[2010 spent, spen...|(2,[0,1],[9.0,19.0])|(2,[0,1],[1.13110...|[0.33195032176690...|[0.58223384436345...|       0.0|\n",
      "| Positive|                 was|               [was]|                  []|                  []|           (2,[],[])|           (2,[],[])|[-0.1188319916949...|[0.47032691177212...|       1.0|\n",
      "| Positive|that was the firs...|[that, was, the, ...|[first, borderlan...|[first borderland...|(2,[0,1],[10.0,3.0])|(2,[0,1],[1.25677...|[0.18717174690264...|[0.54665680451704...|       0.0|\n",
      "| Positive|this was the firs...|[this, was, the, ...|[first, borderlan...|[first borderland...| (2,[0,1],[8.0,5.0])|(2,[0,1],[1.00542...|[0.15394555542131...|[0.53841056039651...|       0.0|\n",
      "| Positive|that was the firs...|[that, was, the, ...|[first, borderlan...|[first borderland...|(2,[0,1],[10.0,3.0])|(2,[0,1],[1.25677...|[0.18717174690264...|[0.54665680451704...|       0.0|\n",
      "| Positive|that was the firs...|[that, was, the, ...|[first, borderlan...|[first borderland...|(2,[0,1],[11.0,3.0])|(2,[0,1],[1.38245...|[0.21454428735029...|[0.55343127874771...|       0.0|\n",
      "| Positive|that I was the fi...|[that, i, was, th...|[first, real, bor...|[first real, real...|(2,[0,1],[12.0,4.0])|(2,[0,1],[1.50813...|[0.25267627250495...|[0.56283511277700...|       0.0|\n",
      "| Positive|that was the firs...|[that, was, the, ...|[first, borderlan...|[first borderland...| (2,[0,1],[5.0,7.0])|(2,[0,1],[0.62838...|[0.09334682349233...|[0.52331977500854...|       0.0|\n",
      "| Negative|the biggest dissa...|[the, biggest, di...|[biggest, dissapp...|[biggest dissappo...| (2,[0,1],[6.0,2.0])|(2,[0,1],[0.75406...|[0.06692214040501...|[0.51672429381971...|       0.0|\n",
      "| Negative|The biggest disap...|[the, biggest, di...|[biggest, disappo...|[biggest disappoi...| (2,[0,1],[4.0,1.0])|(2,[0,1],[0.50271...|[0.00141761480270...|[0.50035440364132...|       0.0|\n",
      "+---------+--------------------+--------------------+--------------------+--------------------+--------------------+--------------------+--------------------+--------------------+----------+\n",
      "only showing top 20 rows\n",
      "\n"
     ]
    }
   ],
   "source": [
    "df_sc.show()"
   ]
  },
  {
   "cell_type": "code",
   "execution_count": 23,
   "id": "a408fb98",
   "metadata": {},
   "outputs": [
    {
     "name": "stderr",
     "output_type": "stream",
     "text": [
      "2022-04-07 10:46:30.016 WARNING kafka.coordinator.consumer: group_id is None: disabling auto-commit.\n",
      "2022-04-07 10:46:30.017 INFO    kafka.consumer.subscription_state: Updating subscribed topics to: ('test5',)\n"
     ]
    }
   ],
   "source": [
    "c = KafkaConsumer('test5', bootstrap_servers=['kafka:9093'], api_version=(2,6,0))\n"
   ]
  },
  {
   "cell_type": "code",
   "execution_count": 24,
   "id": "34fb32e9",
   "metadata": {},
   "outputs": [],
   "source": [
    "cSchema = StructType([StructField(\"Tweet content\", StringType())\\\n",
    "                     ,StructField(\"date\", StringType())])\n"
   ]
  },
  {
   "cell_type": "code",
   "execution_count": 25,
   "id": "43f60d0d",
   "metadata": {},
   "outputs": [],
   "source": [
    "#copie du sc\n",
    "s=copy.deepcopy(df_sc.schema)"
   ]
  },
  {
   "cell_type": "code",
   "execution_count": 26,
   "id": "8eea3478",
   "metadata": {},
   "outputs": [],
   "source": [
    "#df vide\n",
    "df_vide = spark.createDataFrame([], s)"
   ]
  },
  {
   "cell_type": "code",
   "execution_count": 27,
   "id": "7961c39c",
   "metadata": {},
   "outputs": [],
   "source": [
    "\n",
    "# for msg in c:\n",
    "#     df = pd.DataFrame(json.loads(msg.value))    #charger le message dans un Data-Frame df\n",
    "#     #df1=df[~df['vitesse'].isna()]\n",
    "#     #suprimmer les vitesses null\n",
    "#     dfs = spark.createDataFrame(df,schema=cSchema)    #charger la Data-Frame df dans un Data-Frame SPARK dfs \n",
    "#     print(dfs.show())                                  #affichage de la dfs\n",
    "#     dff = pipe.transform(dfs)\n",
    "#     df_vide=df_vide.union(dff)\n",
    "#     print(dff.show()) "
   ]
  },
  {
   "cell_type": "code",
   "execution_count": 28,
   "id": "26837656",
   "metadata": {},
   "outputs": [
    {
     "name": "stderr",
     "output_type": "stream",
     "text": [
      "2022-04-07 10:46:34.283 INFO    kafka.conn: <BrokerConnection node_id=bootstrap-0 host=kafka:9093 <connecting> [IPv4 ('172.18.0.7', 9093)]>: connecting to kafka:9093 [('172.18.0.7', 9093) IPv4]\n",
      "2022-04-07 10:46:34.285 INFO    kafka.conn: <BrokerConnection node_id=bootstrap-0 host=kafka:9093 <connecting> [IPv4 ('172.18.0.7', 9093)]>: Connection complete.\n",
      "2022-04-07 10:46:34.290 INFO    kafka.consumer.subscription_state: Updated partition assignment: [TopicPartition(topic='test5', partition=0)]\n",
      "2022-04-07 10:46:34.294 INFO    kafka.conn: <BrokerConnection node_id=1001 host=kafka:9093 <connecting> [IPv4 ('172.18.0.7', 9093)]>: connecting to kafka:9093 [('172.18.0.7', 9093) IPv4]\n",
      "2022-04-07 10:46:34.297 INFO    kafka.conn: <BrokerConnection node_id=1001 host=kafka:9093 <connecting> [IPv4 ('172.18.0.7', 9093)]>: Connection complete.\n",
      "2022-04-07 10:46:34.298 INFO    kafka.conn: <BrokerConnection node_id=bootstrap-0 host=kafka:9093 <connected> [IPv4 ('172.18.0.7', 9093)]>: Closing connection. \n"
     ]
    },
    {
     "name": "stdout",
     "output_type": "stream",
     "text": [
      "+--------------------+----------+\n",
      "|       Tweet content|      date|\n",
      "+--------------------+----------+\n",
      "|375 CVE Records +...|11/03/2022|\n",
      "+--------------------+----------+\n",
      "\n",
      "None\n",
      "+--------------------+----------+--------------------+--------------------+--------------------+-------------------+--------------------+--------------------+--------------------+----------+\n",
      "|       Tweet content|      date|               words|            Resultat|               Ngram|           features|                 idf|       rawPrediction|         probability|prediction|\n",
      "+--------------------+----------+--------------------+--------------------+--------------------+-------------------+--------------------+--------------------+--------------------+----------+\n",
      "|375 CVE Records +...|11/03/2022|[375, cve, record...|[375, cve, record...|[375 cve, cve rec...|(2,[0,1],[5.0,9.0])|(2,[0,1],[0.62838...|[0.11486571290632...|[0.52868489580150...|       0.0|\n",
      "+--------------------+----------+--------------------+--------------------+--------------------+-------------------+--------------------+--------------------+--------------------+----------+\n",
      "\n",
      "None\n"
     ]
    }
   ],
   "source": [
    "for msg in c:\n",
    "    df = pd.DataFrame(json.loads(msg.value))    #charger le message dans un Data-Frame df\n",
    "    #df1=df[~df['vitesse'].isna()]\n",
    "    #suprimmer les vitesses null\n",
    "    dfs = spark.createDataFrame(df,schema=cSchema)    #charger la Data-Frame df dans un Data-Frame SPARK dfs \n",
    "    print(dfs.show())                                  #affichage de la dfs\n",
    "    dff = pipe.transform(dfs)\n",
    "    df_vide=df_vide.union(dff)\n",
    "    print(dff.show()) \n",
    "    df = df_vide.toPandas\n",
    "    #df.rename(columns={'tweet;;;;;;;;;;;;;;;;;;;;;;;;;;;;;;;;;;;;;;;;;;;;;;;;;;;;;;;;;;;;;;;': 'Tweet'}, inplace=True)\n",
    "    #st.dataframe(df)\n",
    "    #plt.savefig('PieChart01.png')\n",
    "    break"
   ]
  },
  {
   "cell_type": "code",
   "execution_count": 32,
   "id": "388fccb4",
   "metadata": {},
   "outputs": [
    {
     "name": "stdout",
     "output_type": "stream",
     "text": [
      "+--------------------+-------------+--------------------+--------------------+--------------------+-------------------+--------------------+--------------------+--------------------+----------+\n",
      "|           sentiment|Tweet content|               words|            Resultat|               Ngram|           features|                 idf|       rawPrediction|         probability|prediction|\n",
      "+--------------------+-------------+--------------------+--------------------+--------------------+-------------------+--------------------+--------------------+--------------------+----------+\n",
      "|375 CVE Records +...|   11/03/2022|[375, cve, record...|[375, cve, record...|[375 cve, cve rec...|(2,[0,1],[5.0,9.0])|(2,[0,1],[0.62838...|[0.11486571290632...|[0.52868489580150...|       0.0|\n",
      "+--------------------+-------------+--------------------+--------------------+--------------------+-------------------+--------------------+--------------------+--------------------+----------+\n",
      "\n",
      "None\n"
     ]
    }
   ],
   "source": [
    " print(df_vide.show()) "
   ]
  },
  {
   "cell_type": "code",
   "execution_count": 44,
   "id": "fea9bc5b",
   "metadata": {},
   "outputs": [],
   "source": [
    "df = df_vide.toPandas()"
   ]
  },
  {
   "cell_type": "code",
   "execution_count": 67,
   "id": "4c3caf9b",
   "metadata": {},
   "outputs": [
    {
     "data": {
      "text/html": [
       "<div>\n",
       "<style scoped>\n",
       "    .dataframe tbody tr th:only-of-type {\n",
       "        vertical-align: middle;\n",
       "    }\n",
       "\n",
       "    .dataframe tbody tr th {\n",
       "        vertical-align: top;\n",
       "    }\n",
       "\n",
       "    .dataframe thead th {\n",
       "        text-align: right;\n",
       "    }\n",
       "</style>\n",
       "<table border=\"1\" class=\"dataframe\">\n",
       "  <thead>\n",
       "    <tr style=\"text-align: right;\">\n",
       "      <th></th>\n",
       "      <th>sentiment</th>\n",
       "      <th>Tweet content</th>\n",
       "      <th>words</th>\n",
       "      <th>Resultat</th>\n",
       "      <th>Ngram</th>\n",
       "      <th>features</th>\n",
       "      <th>idf</th>\n",
       "      <th>rawPrediction</th>\n",
       "      <th>probability</th>\n",
       "      <th>prediction</th>\n",
       "    </tr>\n",
       "  </thead>\n",
       "  <tbody>\n",
       "    <tr>\n",
       "      <th>0</th>\n",
       "      <td>375 CVE Records + their NVD CVSS scores when a...</td>\n",
       "      <td>11/03/2022</td>\n",
       "      <td>[375, cve, records, +, their, nvd, cvss, score...</td>\n",
       "      <td>[375, cve, records, +, nvd, cvss, scores, avai...</td>\n",
       "      <td>[375 cve, cve records, records +, + nvd, nvd c...</td>\n",
       "      <td>(5.0, 9.0)</td>\n",
       "      <td>(0.6283891826832979, 1.1140344188966187)</td>\n",
       "      <td>[0.11486571290632201, -0.11486571290632201]</td>\n",
       "      <td>[0.5286848958015056, 0.47131510419849443]</td>\n",
       "      <td>0.0</td>\n",
       "    </tr>\n",
       "  </tbody>\n",
       "</table>\n",
       "</div>"
      ],
      "text/plain": [
       "                                           sentiment Tweet content  \\\n",
       "0  375 CVE Records + their NVD CVSS scores when a...    11/03/2022   \n",
       "\n",
       "                                               words  \\\n",
       "0  [375, cve, records, +, their, nvd, cvss, score...   \n",
       "\n",
       "                                            Resultat  \\\n",
       "0  [375, cve, records, +, nvd, cvss, scores, avai...   \n",
       "\n",
       "                                               Ngram    features  \\\n",
       "0  [375 cve, cve records, records +, + nvd, nvd c...  (5.0, 9.0)   \n",
       "\n",
       "                                        idf  \\\n",
       "0  (0.6283891826832979, 1.1140344188966187)   \n",
       "\n",
       "                                 rawPrediction  \\\n",
       "0  [0.11486571290632201, -0.11486571290632201]   \n",
       "\n",
       "                                 probability  prediction  \n",
       "0  [0.5286848958015056, 0.47131510419849443]         0.0  "
      ]
     },
     "execution_count": 67,
     "metadata": {},
     "output_type": "execute_result"
    }
   ],
   "source": [
    "df"
   ]
  },
  {
   "cell_type": "code",
   "execution_count": 46,
   "id": "723d19f7",
   "metadata": {},
   "outputs": [
    {
     "data": {
      "text/plain": [
       "0    0.0\n",
       "Name: prediction, dtype: float64"
      ]
     },
     "execution_count": 46,
     "metadata": {},
     "output_type": "execute_result"
    }
   ],
   "source": [
    "df['prediction']"
   ]
  },
  {
   "cell_type": "code",
   "execution_count": null,
   "id": "d67f068e",
   "metadata": {},
   "outputs": [],
   "source": [
    "code[df['sexe']=='masculin'] = 1\n",
    "print(code.value_counts())"
   ]
  },
  {
   "cell_type": "code",
   "execution_count": 59,
   "id": "f8b2b880",
   "metadata": {},
   "outputs": [],
   "source": [
    "import pandas\n",
    "import numpy"
   ]
  },
  {
   "cell_type": "code",
   "execution_count": 65,
   "id": "bde517ee",
   "metadata": {},
   "outputs": [],
   "source": [
    "neg = pandas.Series(numpy.zeros(df.shape[0]))\n",
    "pos = pandas.Series(numpy.zeros(df.shape[0]))"
   ]
  },
  {
   "cell_type": "code",
   "execution_count": 63,
   "id": "d44ec471",
   "metadata": {},
   "outputs": [
    {
     "name": "stdout",
     "output_type": "stream",
     "text": [
      "0.0    1\n",
      "dtype: int64\n"
     ]
    }
   ],
   "source": [
    "neg[df['prediction']=='0']=0\n",
    "print(neg.value_counts())\n"
   ]
  },
  {
   "cell_type": "code",
   "execution_count": null,
   "id": "6bc96128",
   "metadata": {},
   "outputs": [],
   "source": []
  },
  {
   "cell_type": "code",
   "execution_count": null,
   "id": "37b888d0",
   "metadata": {},
   "outputs": [],
   "source": []
  },
  {
   "cell_type": "code",
   "execution_count": 80,
   "id": "ab244743",
   "metadata": {},
   "outputs": [],
   "source": [
    "n=[neg.value_counts()]\n",
    "p=[pos.value_counts()]"
   ]
  },
  {
   "cell_type": "code",
   "execution_count": 81,
   "id": "669a3aec",
   "metadata": {},
   "outputs": [
    {
     "name": "stdout",
     "output_type": "stream",
     "text": [
      "[0.0    1\n",
      "dtype: int64]\n"
     ]
    }
   ],
   "source": [
    "print(n)"
   ]
  },
  {
   "cell_type": "code",
   "execution_count": 79,
   "id": "e721613b",
   "metadata": {},
   "outputs": [
    {
     "ename": "ValueError",
     "evalue": "x must be 1D",
     "output_type": "error",
     "traceback": [
      "\u001b[0;31m---------------------------------------------------------------------------\u001b[0m",
      "\u001b[0;31mValueError\u001b[0m                                Traceback (most recent call last)",
      "\u001b[0;32m<ipython-input-79-296012227067>\u001b[0m in \u001b[0;36m<module>\u001b[0;34m\u001b[0m\n\u001b[1;32m     10\u001b[0m \u001b[0mmylabels\u001b[0m \u001b[0;34m=\u001b[0m \u001b[0;34m[\u001b[0m \u001b[0;34m'Positive'\u001b[0m\u001b[0;34m,\u001b[0m \u001b[0;34m'Negative'\u001b[0m\u001b[0;34m]\u001b[0m\u001b[0;34m\u001b[0m\u001b[0;34m\u001b[0m\u001b[0m\n\u001b[1;32m     11\u001b[0m \u001b[0mfig\u001b[0m \u001b[0;34m=\u001b[0m \u001b[0mplt\u001b[0m\u001b[0;34m.\u001b[0m\u001b[0mfigure\u001b[0m\u001b[0;34m(\u001b[0m\u001b[0mfigsize\u001b[0m\u001b[0;34m=\u001b[0m\u001b[0;34m(\u001b[0m\u001b[0;36m10\u001b[0m\u001b[0;34m,\u001b[0m \u001b[0;36m4\u001b[0m\u001b[0;34m)\u001b[0m\u001b[0;34m)\u001b[0m\u001b[0;34m\u001b[0m\u001b[0;34m\u001b[0m\u001b[0m\n\u001b[0;32m---> 12\u001b[0;31m \u001b[0mplt\u001b[0m\u001b[0;34m.\u001b[0m\u001b[0mpie\u001b[0m\u001b[0;34m(\u001b[0m\u001b[0mx\u001b[0m\u001b[0;34m,\u001b[0m \u001b[0mlabels\u001b[0m \u001b[0;34m=\u001b[0m \u001b[0mmylabels\u001b[0m\u001b[0;34m)\u001b[0m\u001b[0;34m\u001b[0m\u001b[0;34m\u001b[0m\u001b[0m\n\u001b[0m\u001b[1;32m     13\u001b[0m \u001b[0mst\u001b[0m\u001b[0;34m.\u001b[0m\u001b[0mpyplot\u001b[0m\u001b[0;34m(\u001b[0m\u001b[0mfig\u001b[0m\u001b[0;34m)\u001b[0m\u001b[0;34m\u001b[0m\u001b[0;34m\u001b[0m\u001b[0m\n\u001b[1;32m     14\u001b[0m \u001b[0;34m\u001b[0m\u001b[0m\n",
      "\u001b[0;32m/opt/conda/lib/python3.8/site-packages/matplotlib/pyplot.py\u001b[0m in \u001b[0;36mpie\u001b[0;34m(x, explode, labels, colors, autopct, pctdistance, shadow, labeldistance, startangle, radius, counterclock, wedgeprops, textprops, center, frame, rotatelabels, normalize, data)\u001b[0m\n\u001b[1;32m   2973\u001b[0m         \u001b[0mtextprops\u001b[0m\u001b[0;34m=\u001b[0m\u001b[0;32mNone\u001b[0m\u001b[0;34m,\u001b[0m \u001b[0mcenter\u001b[0m\u001b[0;34m=\u001b[0m\u001b[0;34m(\u001b[0m\u001b[0;36m0\u001b[0m\u001b[0;34m,\u001b[0m \u001b[0;36m0\u001b[0m\u001b[0;34m)\u001b[0m\u001b[0;34m,\u001b[0m \u001b[0mframe\u001b[0m\u001b[0;34m=\u001b[0m\u001b[0;32mFalse\u001b[0m\u001b[0;34m,\u001b[0m\u001b[0;34m\u001b[0m\u001b[0;34m\u001b[0m\u001b[0m\n\u001b[1;32m   2974\u001b[0m         rotatelabels=False, *, normalize=None, data=None):\n\u001b[0;32m-> 2975\u001b[0;31m     return gca().pie(\n\u001b[0m\u001b[1;32m   2976\u001b[0m         \u001b[0mx\u001b[0m\u001b[0;34m,\u001b[0m \u001b[0mexplode\u001b[0m\u001b[0;34m=\u001b[0m\u001b[0mexplode\u001b[0m\u001b[0;34m,\u001b[0m \u001b[0mlabels\u001b[0m\u001b[0;34m=\u001b[0m\u001b[0mlabels\u001b[0m\u001b[0;34m,\u001b[0m \u001b[0mcolors\u001b[0m\u001b[0;34m=\u001b[0m\u001b[0mcolors\u001b[0m\u001b[0;34m,\u001b[0m\u001b[0;34m\u001b[0m\u001b[0;34m\u001b[0m\u001b[0m\n\u001b[1;32m   2977\u001b[0m         \u001b[0mautopct\u001b[0m\u001b[0;34m=\u001b[0m\u001b[0mautopct\u001b[0m\u001b[0;34m,\u001b[0m \u001b[0mpctdistance\u001b[0m\u001b[0;34m=\u001b[0m\u001b[0mpctdistance\u001b[0m\u001b[0;34m,\u001b[0m \u001b[0mshadow\u001b[0m\u001b[0;34m=\u001b[0m\u001b[0mshadow\u001b[0m\u001b[0;34m,\u001b[0m\u001b[0;34m\u001b[0m\u001b[0;34m\u001b[0m\u001b[0m\n",
      "\u001b[0;32m/opt/conda/lib/python3.8/site-packages/matplotlib/__init__.py\u001b[0m in \u001b[0;36minner\u001b[0;34m(ax, data, *args, **kwargs)\u001b[0m\n\u001b[1;32m   1350\u001b[0m     \u001b[0;32mdef\u001b[0m \u001b[0minner\u001b[0m\u001b[0;34m(\u001b[0m\u001b[0max\u001b[0m\u001b[0;34m,\u001b[0m \u001b[0;34m*\u001b[0m\u001b[0margs\u001b[0m\u001b[0;34m,\u001b[0m \u001b[0mdata\u001b[0m\u001b[0;34m=\u001b[0m\u001b[0;32mNone\u001b[0m\u001b[0;34m,\u001b[0m \u001b[0;34m**\u001b[0m\u001b[0mkwargs\u001b[0m\u001b[0;34m)\u001b[0m\u001b[0;34m:\u001b[0m\u001b[0;34m\u001b[0m\u001b[0;34m\u001b[0m\u001b[0m\n\u001b[1;32m   1351\u001b[0m         \u001b[0;32mif\u001b[0m \u001b[0mdata\u001b[0m \u001b[0;32mis\u001b[0m \u001b[0;32mNone\u001b[0m\u001b[0;34m:\u001b[0m\u001b[0;34m\u001b[0m\u001b[0;34m\u001b[0m\u001b[0m\n\u001b[0;32m-> 1352\u001b[0;31m             \u001b[0;32mreturn\u001b[0m \u001b[0mfunc\u001b[0m\u001b[0;34m(\u001b[0m\u001b[0max\u001b[0m\u001b[0;34m,\u001b[0m \u001b[0;34m*\u001b[0m\u001b[0mmap\u001b[0m\u001b[0;34m(\u001b[0m\u001b[0msanitize_sequence\u001b[0m\u001b[0;34m,\u001b[0m \u001b[0margs\u001b[0m\u001b[0;34m)\u001b[0m\u001b[0;34m,\u001b[0m \u001b[0;34m**\u001b[0m\u001b[0mkwargs\u001b[0m\u001b[0;34m)\u001b[0m\u001b[0;34m\u001b[0m\u001b[0;34m\u001b[0m\u001b[0m\n\u001b[0m\u001b[1;32m   1353\u001b[0m \u001b[0;34m\u001b[0m\u001b[0m\n\u001b[1;32m   1354\u001b[0m         \u001b[0mbound\u001b[0m \u001b[0;34m=\u001b[0m \u001b[0mnew_sig\u001b[0m\u001b[0;34m.\u001b[0m\u001b[0mbind\u001b[0m\u001b[0;34m(\u001b[0m\u001b[0max\u001b[0m\u001b[0;34m,\u001b[0m \u001b[0;34m*\u001b[0m\u001b[0margs\u001b[0m\u001b[0;34m,\u001b[0m \u001b[0;34m**\u001b[0m\u001b[0mkwargs\u001b[0m\u001b[0;34m)\u001b[0m\u001b[0;34m\u001b[0m\u001b[0;34m\u001b[0m\u001b[0m\n",
      "\u001b[0;32m/opt/conda/lib/python3.8/site-packages/matplotlib/axes/_axes.py\u001b[0m in \u001b[0;36mpie\u001b[0;34m(self, x, explode, labels, colors, autopct, pctdistance, shadow, labeldistance, startangle, radius, counterclock, wedgeprops, textprops, center, frame, rotatelabels, normalize)\u001b[0m\n\u001b[1;32m   3029\u001b[0m         \u001b[0mx\u001b[0m \u001b[0;34m=\u001b[0m \u001b[0mnp\u001b[0m\u001b[0;34m.\u001b[0m\u001b[0masarray\u001b[0m\u001b[0;34m(\u001b[0m\u001b[0mx\u001b[0m\u001b[0;34m,\u001b[0m \u001b[0mnp\u001b[0m\u001b[0;34m.\u001b[0m\u001b[0mfloat32\u001b[0m\u001b[0;34m)\u001b[0m\u001b[0;34m\u001b[0m\u001b[0;34m\u001b[0m\u001b[0m\n\u001b[1;32m   3030\u001b[0m         \u001b[0;32mif\u001b[0m \u001b[0mx\u001b[0m\u001b[0;34m.\u001b[0m\u001b[0mndim\u001b[0m \u001b[0;34m>\u001b[0m \u001b[0;36m1\u001b[0m\u001b[0;34m:\u001b[0m\u001b[0;34m\u001b[0m\u001b[0;34m\u001b[0m\u001b[0m\n\u001b[0;32m-> 3031\u001b[0;31m             \u001b[0;32mraise\u001b[0m \u001b[0mValueError\u001b[0m\u001b[0;34m(\u001b[0m\u001b[0;34m\"x must be 1D\"\u001b[0m\u001b[0;34m)\u001b[0m\u001b[0;34m\u001b[0m\u001b[0;34m\u001b[0m\u001b[0m\n\u001b[0m\u001b[1;32m   3032\u001b[0m \u001b[0;34m\u001b[0m\u001b[0m\n\u001b[1;32m   3033\u001b[0m         \u001b[0;32mif\u001b[0m \u001b[0mnp\u001b[0m\u001b[0;34m.\u001b[0m\u001b[0many\u001b[0m\u001b[0;34m(\u001b[0m\u001b[0mx\u001b[0m \u001b[0;34m<\u001b[0m \u001b[0;36m0\u001b[0m\u001b[0;34m)\u001b[0m\u001b[0;34m:\u001b[0m\u001b[0;34m\u001b[0m\u001b[0;34m\u001b[0m\u001b[0m\n",
      "\u001b[0;31mValueError\u001b[0m: x must be 1D"
     ]
    },
    {
     "data": {
      "image/png": "[encoded data removed]",
      "text/plain": [
       "<Figure size 720x288 with 1 Axes>"
      ]
     },
     "metadata": {
      "needs_background": "light"
     },
     "output_type": "display_data"
    }
   ],
   "source": [
    "neg[df['prediction']=='0']=0\n",
    "pos[df['prediction']=='1']=1\n",
    "# pos = df['prediction'].count('1').sum()\n",
    "# neg = df['prediction'].count('0').sum()\n",
    "n=[neg.value_counts()]\n",
    "p=[pos.value_counts()]\n",
    "\n",
    "\n",
    "x = np.array([p, n])\n",
    "mylabels = [ 'Positive', 'Negative']\n",
    "fig = plt.figure(figsize=(10, 4))\n",
    "plt.pie(x, labels = mylabels)\n",
    "st.pyplot(fig)\n",
    "\n",
    "\n",
    "\n",
    "\n",
    "    # Run the autorefresh about every 2000 milliseconds (2 seconds) and stop\n",
    "    # after it's been refreshed 100 times.\n",
    "count = st_autorefresh(interval=2000, limit=100)\n",
    "    "
   ]
  },
  {
   "cell_type": "code",
   "execution_count": 30,
   "id": "a320d718",
   "metadata": {},
   "outputs": [
    {
     "name": "stdout",
     "output_type": "stream",
     "text": [
      "+--------------------+-------------+--------------------+--------------------+--------------------+-------------------+--------------------+--------------------+--------------------+----------+\n",
      "|           sentiment|Tweet content|               words|            Resultat|               Ngram|           features|                 idf|       rawPrediction|         probability|prediction|\n",
      "+--------------------+-------------+--------------------+--------------------+--------------------+-------------------+--------------------+--------------------+--------------------+----------+\n",
      "|375 CVE Records +...|   11/03/2022|[375, cve, record...|[375, cve, record...|[375 cve, cve rec...|(2,[0,1],[5.0,9.0])|(2,[0,1],[0.62838...|[0.11486571290632...|[0.52868489580150...|       0.0|\n",
      "+--------------------+-------------+--------------------+--------------------+--------------------+-------------------+--------------------+--------------------+--------------------+----------+\n",
      "\n"
     ]
    }
   ],
   "source": [
    "df_vide.show()"
   ]
  },
  {
   "cell_type": "code",
   "execution_count": 82,
   "id": "8679890c",
   "metadata": {},
   "outputs": [],
   "source": [
    "import matplotlib.pyplot as plt"
   ]
  },
  {
   "cell_type": "code",
   "execution_count": 83,
   "id": "47c49f39",
   "metadata": {},
   "outputs": [
    {
     "data": {
      "text/plain": [
       "<AxesSubplot:title={'center':'0.0'}>"
      ]
     },
     "execution_count": 83,
     "metadata": {},
     "output_type": "execute_result"
    },
    {
     "data": {
      "image/png": "[encoded data removed]",
      "text/plain": [
       "<Figure size 432x288 with 1 Axes>"
      ]
     },
     "metadata": {
      "needs_background": "light"
     },
     "output_type": "display_data"
    }
   ],
   "source": [
    "df.hist(column='prediction',by='prediction')"
   ]
  },
  {
   "cell_type": "code",
   "execution_count": null,
   "id": "33e585f2",
   "metadata": {},
   "outputs": [],
   "source": []
  }
 ],
 "metadata": {
  "kernelspec": {
   "display_name": "Python 3",
   "language": "python",
   "name": "python3"
  },
  "language_info": {
   "codemirror_mode": {
    "name": "ipython",
    "version": 3
   },
   "file_extension": ".py",
   "mimetype": "text/x-python",
   "name": "python",
   "nbconvert_exporter": "python",
   "pygments_lexer": "ipython3",
   "version": "3.8.8"
  }
 },
 "nbformat": 4,
 "nbformat_minor": 5
}
